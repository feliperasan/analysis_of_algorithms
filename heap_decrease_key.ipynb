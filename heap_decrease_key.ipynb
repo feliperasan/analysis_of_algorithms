{
  "nbformat": 4,
  "nbformat_minor": 0,
  "metadata": {
    "colab": {
      "provenance": [],
      "authorship_tag": "ABX9TyNca4TKoeMR9f0ICqfkbybR",
      "include_colab_link": true
    },
    "kernelspec": {
      "name": "python3",
      "display_name": "Python 3"
    },
    "language_info": {
      "name": "python"
    }
  },
  "cells": [
    {
      "cell_type": "markdown",
      "metadata": {
        "id": "view-in-github",
        "colab_type": "text"
      },
      "source": [
        "<a href=\"https://colab.research.google.com/github/feliperasan/analysis_of_algorithms/blob/main/heap_decrease_key.ipynb\" target=\"_parent\"><img src=\"https://colab.research.google.com/assets/colab-badge.svg\" alt=\"Open In Colab\"/></a>"
      ]
    },
    {
      "cell_type": "code",
      "execution_count": null,
      "metadata": {
        "id": "AisNl0Zip7op"
      },
      "outputs": [],
      "source": [
        "def PENEIRA(A, n, i):\n",
        "    l = 2 * i\n",
        "    r = (2 * 1) + 1\n",
        "    maior = i\n",
        "    if l <= n and A[l] > A[maior]:\n",
        "        maior = l\n",
        "    if r <= n and A[r] > A[maior]:\n",
        "        maior = r\n",
        "    if maior != i:\n",
        "        aux = A[maior]\n",
        "        A[maior] = A[i]\n",
        "        A[i] = aux\n",
        "        PENEIRA(A, n, maior)"
      ]
    },
    {
      "cell_type": "code",
      "source": [
        "def MAX_HEAP(A, n):\n",
        "    i = n / 2\n",
        "    for i in range(n, 1, -1):\n",
        "        PENEIRA(A, n, i)"
      ],
      "metadata": {
        "id": "BxSf7u5Ru5HJ"
      },
      "execution_count": null,
      "outputs": []
    },
    {
      "cell_type": "code",
      "source": [
        "def HEAP_SORT(A, n):\n",
        "    MAX_HEAP(A, n)\n",
        "    tamanho = n\n",
        "    n = A[n]\n",
        "    for i in range(n, 2, -1):\n",
        "        aux = A[1]\n",
        "        A[1] = A[i]\n",
        "        A[i] = aux\n",
        "        tamanho = tamanho - 1\n",
        "        PENEIRA(A, tamanho, 1)"
      ],
      "metadata": {
        "id": "TO7ifQkhv3qS"
      },
      "execution_count": null,
      "outputs": []
    }
  ]
}